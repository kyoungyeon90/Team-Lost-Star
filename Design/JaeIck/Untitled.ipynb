{
 "cells": [
  {
   "cell_type": "code",
   "execution_count": 1,
   "metadata": {},
   "outputs": [
    {
     "name": "stderr",
     "output_type": "stream",
     "text": [
      "ERROR: Could not find a version that satisfies the requirement openssl-devel (from versions: none)\n",
      "ERROR: No matching distribution found for openssl-devel\n"
     ]
    },
    {
     "name": "stdout",
     "output_type": "stream",
     "text": [
      "Requirement already satisfied: pyOpenSSL in c:\\programdata\\anaconda3\\lib\\site-packages (19.0.0)\n",
      "Requirement already satisfied: cryptography>=2.3 in c:\\programdata\\anaconda3\\lib\\site-packages (from pyOpenSSL) (2.7)\n",
      "Requirement already satisfied: six>=1.5.2 in c:\\programdata\\anaconda3\\lib\\site-packages (from pyOpenSSL) (1.12.0)\n",
      "Requirement already satisfied: asn1crypto>=0.21.0 in c:\\programdata\\anaconda3\\lib\\site-packages (from cryptography>=2.3->pyOpenSSL) (0.24.0)\n",
      "Requirement already satisfied: cffi!=1.11.3,>=1.8 in c:\\programdata\\anaconda3\\lib\\site-packages (from cryptography>=2.3->pyOpenSSL) (1.12.3)\n",
      "Requirement already satisfied: pycparser in c:\\programdata\\anaconda3\\lib\\site-packages (from cffi!=1.11.3,>=1.8->cryptography>=2.3->pyOpenSSL) (2.19)\n",
      "Requirement already satisfied: pyopenssl in c:\\programdata\\anaconda3\\lib\\site-packages (19.0.0)\n",
      "Requirement already satisfied: cryptography>=2.3 in c:\\programdata\\anaconda3\\lib\\site-packages (from pyopenssl) (2.7)\n",
      "Requirement already satisfied: six>=1.5.2 in c:\\programdata\\anaconda3\\lib\\site-packages (from pyopenssl) (1.12.0)\n",
      "Requirement already satisfied: cffi!=1.11.3,>=1.8 in c:\\programdata\\anaconda3\\lib\\site-packages (from cryptography>=2.3->pyopenssl) (1.12.3)\n",
      "Requirement already satisfied: asn1crypto>=0.21.0 in c:\\programdata\\anaconda3\\lib\\site-packages (from cryptography>=2.3->pyopenssl) (0.24.0)\n",
      "Requirement already satisfied: pycparser in c:\\programdata\\anaconda3\\lib\\site-packages (from cffi!=1.11.3,>=1.8->cryptography>=2.3->pyopenssl) (2.19)\n"
     ]
    }
   ],
   "source": [
    "!pip install openssl-devel\n",
    "!pip install pyOpenSSL\n",
    "!pip install pyopenssl"
   ]
  },
  {
   "cell_type": "code",
   "execution_count": 3,
   "metadata": {},
   "outputs": [
    {
     "name": "stdout",
     "output_type": "stream",
     "text": [
      "Collecting bothub-cli\n",
      "  Using cached https://files.pythonhosted.org/packages/40/f4/50938ae5d96a7c7ca3e3855e2c8ef9f2cb0fff226c02288c95c4351683ab/bothub_cli-0.1.20-py2.py3-none-any.whl\n",
      "Requirement already satisfied: click in c:\\programdata\\anaconda3\\lib\\site-packages (from bothub-cli) (7.0)\n",
      "Requirement already satisfied: requests in c:\\programdata\\anaconda3\\lib\\site-packages (from bothub-cli) (2.22.0)\n",
      "Processing c:\\users\\user\\appdata\\local\\pip\\cache\\wheels\\30\\6b\\50\\6c75775b681fb36cdfac7f19799888ef9d8813aff9e379663e\\terminaltables-3.1.0-cp37-none-any.whl\n",
      "Requirement already satisfied: six in c:\\programdata\\anaconda3\\lib\\site-packages (from bothub-cli) (1.12.0)\n",
      "Requirement already satisfied: dialogflow in c:\\programdata\\anaconda3\\lib\\site-packages (from bothub-cli) (0.7.2)\n",
      "Requirement already satisfied: pyyaml in c:\\programdata\\anaconda3\\lib\\site-packages (from bothub-cli) (5.1.1)\n",
      "Requirement already satisfied: ruamel.yaml in c:\\programdata\\anaconda3\\lib\\site-packages (from bothub-cli) (0.16.5)\n",
      "Requirement already satisfied: prompt-toolkit>=2.0 in c:\\programdata\\anaconda3\\lib\\site-packages (from bothub-cli) (2.0.9)\n",
      "Processing c:\\users\\user\\appdata\\local\\pip\\cache\\wheels\\62\\b8\\e1\\e2719465b5947c40cd85d613d6cb33449b86a1ca5a6c574269\\pathspec-0.6.0-cp37-none-any.whl\n",
      "Requirement already satisfied: bothub>=0.1.18 in c:\\programdata\\anaconda3\\lib\\site-packages (from bothub-cli) (0.1.30)\n",
      "Requirement already satisfied: pyjwt in c:\\programdata\\anaconda3\\lib\\site-packages (from bothub-cli) (1.7.1)\n",
      "Requirement already satisfied: certifi>=2017.4.17 in c:\\programdata\\anaconda3\\lib\\site-packages (from requests->bothub-cli) (2019.6.16)\n",
      "Requirement already satisfied: idna<2.9,>=2.5 in c:\\programdata\\anaconda3\\lib\\site-packages (from requests->bothub-cli) (2.8)\n",
      "Requirement already satisfied: urllib3!=1.25.0,!=1.25.1,<1.26,>=1.21.1 in c:\\programdata\\anaconda3\\lib\\site-packages (from requests->bothub-cli) (1.24.2)\n",
      "Requirement already satisfied: chardet<3.1.0,>=3.0.2 in c:\\programdata\\anaconda3\\lib\\site-packages (from requests->bothub-cli) (3.0.4)\n",
      "Requirement already satisfied: google-api-core[grpc]<2.0.0dev,>=1.14.0 in c:\\programdata\\anaconda3\\lib\\site-packages (from dialogflow->bothub-cli) (1.14.3)\n",
      "Requirement already satisfied: ruamel.yaml.clib>=0.1.2; platform_python_implementation == \"CPython\" and python_version < \"3.8\" in c:\\programdata\\anaconda3\\lib\\site-packages (from ruamel.yaml->bothub-cli) (0.2.0)\n",
      "Requirement already satisfied: wcwidth in c:\\programdata\\anaconda3\\lib\\site-packages (from prompt-toolkit>=2.0->bothub-cli) (0.1.7)\n",
      "Requirement already satisfied: pyaml in c:\\programdata\\anaconda3\\lib\\site-packages (from bothub>=0.1.18->bothub-cli) (19.4.1)\n",
      "Requirement already satisfied: zmq in c:\\programdata\\anaconda3\\lib\\site-packages (from bothub>=0.1.18->bothub-cli) (0.0.0)\n",
      "Requirement already satisfied: setuptools>=34.0.0 in c:\\programdata\\anaconda3\\lib\\site-packages (from google-api-core[grpc]<2.0.0dev,>=1.14.0->dialogflow->bothub-cli) (41.0.1)\n",
      "Requirement already satisfied: pytz in c:\\programdata\\anaconda3\\lib\\site-packages (from google-api-core[grpc]<2.0.0dev,>=1.14.0->dialogflow->bothub-cli) (2019.1)\n",
      "Requirement already satisfied: protobuf>=3.4.0 in c:\\programdata\\anaconda3\\lib\\site-packages (from google-api-core[grpc]<2.0.0dev,>=1.14.0->dialogflow->bothub-cli) (3.10.0)\n",
      "Requirement already satisfied: googleapis-common-protos<2.0dev,>=1.6.0 in c:\\programdata\\anaconda3\\lib\\site-packages (from google-api-core[grpc]<2.0.0dev,>=1.14.0->dialogflow->bothub-cli) (1.6.0)\n",
      "Requirement already satisfied: google-auth<2.0dev,>=0.4.0 in c:\\programdata\\anaconda3\\lib\\site-packages (from google-api-core[grpc]<2.0.0dev,>=1.14.0->dialogflow->bothub-cli) (1.7.0)\n",
      "Requirement already satisfied: grpcio<2.0dev,>=1.8.2; extra == \"grpc\" in c:\\programdata\\anaconda3\\lib\\site-packages (from google-api-core[grpc]<2.0.0dev,>=1.14.0->dialogflow->bothub-cli) (1.24.1)\n",
      "Requirement already satisfied: pyzmq in c:\\programdata\\anaconda3\\lib\\site-packages (from zmq->bothub>=0.1.18->bothub-cli) (18.0.0)\n",
      "Requirement already satisfied: cachetools<3.2,>=2.0.0 in c:\\programdata\\anaconda3\\lib\\site-packages (from google-auth<2.0dev,>=0.4.0->google-api-core[grpc]<2.0.0dev,>=1.14.0->dialogflow->bothub-cli) (3.1.1)\n",
      "Requirement already satisfied: pyasn1-modules>=0.2.1 in c:\\programdata\\anaconda3\\lib\\site-packages (from google-auth<2.0dev,>=0.4.0->google-api-core[grpc]<2.0.0dev,>=1.14.0->dialogflow->bothub-cli) (0.2.7)\n",
      "Requirement already satisfied: rsa<4.1,>=3.1.4 in c:\\programdata\\anaconda3\\lib\\site-packages (from google-auth<2.0dev,>=0.4.0->google-api-core[grpc]<2.0.0dev,>=1.14.0->dialogflow->bothub-cli) (4.0)\n",
      "Requirement already satisfied: pyasn1<0.5.0,>=0.4.6 in c:\\programdata\\anaconda3\\lib\\site-packages (from pyasn1-modules>=0.2.1->google-auth<2.0dev,>=0.4.0->google-api-core[grpc]<2.0.0dev,>=1.14.0->dialogflow->bothub-cli) (0.4.7)\n",
      "Installing collected packages: terminaltables, pathspec, bothub-cli\n",
      "Successfully installed bothub-cli-0.1.20 pathspec-0.6.0 terminaltables-3.1.0\n"
     ]
    }
   ],
   "source": [
    "!pip install bothub-cli"
   ]
  },
  {
   "cell_type": "code",
   "execution_count": 8,
   "metadata": {},
   "outputs": [
    {
     "ename": "SyntaxError",
     "evalue": "invalid syntax (<ipython-input-8-deddc90ea446>, line 1)",
     "output_type": "error",
     "traceback": [
      "\u001b[1;36m  File \u001b[1;32m\"<ipython-input-8-deddc90ea446>\"\u001b[1;36m, line \u001b[1;32m1\u001b[0m\n\u001b[1;33m    bothub configure\u001b[0m\n\u001b[1;37m                   ^\u001b[0m\n\u001b[1;31mSyntaxError\u001b[0m\u001b[1;31m:\u001b[0m invalid syntax\n"
     ]
    }
   ],
   "source": [
    "bothub configure"
   ]
  },
  {
   "cell_type": "code",
   "execution_count": null,
   "metadata": {},
   "outputs": [],
   "source": []
  }
 ],
 "metadata": {
  "kernelspec": {
   "display_name": "Python 3",
   "language": "python",
   "name": "python3"
  },
  "language_info": {
   "codemirror_mode": {
    "name": "ipython",
    "version": 3
   },
   "file_extension": ".py",
   "mimetype": "text/x-python",
   "name": "python",
   "nbconvert_exporter": "python",
   "pygments_lexer": "ipython3",
   "version": "3.7.3"
  }
 },
 "nbformat": 4,
 "nbformat_minor": 2
}
